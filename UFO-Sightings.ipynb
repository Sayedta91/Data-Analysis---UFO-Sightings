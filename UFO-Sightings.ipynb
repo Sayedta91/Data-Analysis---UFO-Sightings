{
 "cells": [
  {
   "cell_type": "markdown",
   "id": "514183b0",
   "metadata": {
    "papermill": {
     "duration": 0.006139,
     "end_time": "2024-12-11T16:15:00.763461",
     "exception": false,
     "start_time": "2024-12-11T16:15:00.757322",
     "status": "completed"
    },
    "tags": []
   },
   "source": [
    "# UFO Sightings "
   ]
  },
  {
   "cell_type": "markdown",
   "id": "ace45c7f",
   "metadata": {
    "papermill": {
     "duration": 0.004858,
     "end_time": "2024-12-11T16:15:00.773659",
     "exception": false,
     "start_time": "2024-12-11T16:15:00.768801",
     "status": "completed"
    },
    "tags": []
   },
   "source": [
    "Several questions came to mind when I first reviewed the dataset:\n",
    "  1. In which states, countries or cities do most UFO sightings occur?\n",
    "  2. Are UFO sightings increasing or decreasing over time?\n",
    "  3. What are the most commonly reported shapes of UFOs?\n",
    "  4. What are common keywords or phrases in UFO descriptions, and do recurring themes emerge?"
   ]
  },
  {
   "cell_type": "markdown",
   "id": "7c55ffed",
   "metadata": {
    "papermill": {
     "duration": 0.005966,
     "end_time": "2024-12-11T16:15:00.784738",
     "exception": false,
     "start_time": "2024-12-11T16:15:00.778772",
     "status": "completed"
    },
    "tags": []
   },
   "source": [
    "#### Import Required Libraries and Dataset"
   ]
  },
  {
   "cell_type": "code",
   "execution_count": 1,
   "id": "9e8278a9",
   "metadata": {
    "execution": {
     "iopub.execute_input": "2024-12-11T16:15:00.797068Z",
     "iopub.status.busy": "2024-12-11T16:15:00.796632Z",
     "iopub.status.idle": "2024-12-11T16:15:03.965719Z",
     "shell.execute_reply": "2024-12-11T16:15:03.964703Z"
    },
    "papermill": {
     "duration": 3.178105,
     "end_time": "2024-12-11T16:15:03.967974",
     "exception": false,
     "start_time": "2024-12-11T16:15:00.789869",
     "status": "completed"
    },
    "tags": []
   },
   "outputs": [],
   "source": [
    "import os\n",
    "\n",
    "# Import data manipulation libraries\n",
    "import pandas as pd\n",
    "import numpy as np\n",
    "import datetime as dt\n",
    "\n",
    "# Import visualization libraries\n",
    "import seaborn as sns\n",
    "import matplotlib.pyplot as plt\n",
    "%matplotlib inline\n",
    "import plotly.express as px\n",
    "import plotly.graph_objs as go\n",
    "from wordcloud import WordCloud\n",
    "\n",
    "# Utility libraries\n",
    "from collections import Counter\n",
    "import re\n",
    "import warnings\n",
    "warnings.filterwarnings('ignore')"
   ]
  },
  {
   "cell_type": "markdown",
   "id": "ab98e40e",
   "metadata": {
    "papermill": {
     "duration": 0.005119,
     "end_time": "2024-12-11T16:15:03.978512",
     "exception": false,
     "start_time": "2024-12-11T16:15:03.973393",
     "status": "completed"
    },
    "tags": []
   },
   "source": [
    "#### Basic Data Exploration"
   ]
  },
  {
   "cell_type": "code",
   "execution_count": 2,
   "id": "9f3dc304",
   "metadata": {
    "execution": {
     "iopub.execute_input": "2024-12-11T16:15:03.990800Z",
     "iopub.status.busy": "2024-12-11T16:15:03.990227Z",
     "iopub.status.idle": "2024-12-11T16:15:04.543457Z",
     "shell.execute_reply": "2024-12-11T16:15:04.542387Z"
    },
    "papermill": {
     "duration": 0.563746,
     "end_time": "2024-12-11T16:15:04.547465",
     "exception": false,
     "start_time": "2024-12-11T16:15:03.983719",
     "status": "completed"
    },
    "tags": []
   },
   "outputs": [
    {
     "name": "stdout",
     "output_type": "stream",
     "text": [
      "Dataset Columns: Index(['datetime', 'city', 'state', 'country', 'shape', 'duration (seconds)',\n",
      "       'duration (hours/min)', 'comments', 'date posted', 'latitude',\n",
      "       'longitude '],\n",
      "      dtype='object')\n",
      "Dataset Shape: (80332, 11)\n",
      "<class 'pandas.core.frame.DataFrame'>\n",
      "RangeIndex: 80332 entries, 0 to 80331\n",
      "Data columns (total 11 columns):\n",
      " #   Column                Non-Null Count  Dtype  \n",
      "---  ------                --------------  -----  \n",
      " 0   datetime              80332 non-null  object \n",
      " 1   city                  80332 non-null  object \n",
      " 2   state                 74535 non-null  object \n",
      " 3   country               70662 non-null  object \n",
      " 4   shape                 78400 non-null  object \n",
      " 5   duration (seconds)    80332 non-null  object \n",
      " 6   duration (hours/min)  80332 non-null  object \n",
      " 7   comments              80317 non-null  object \n",
      " 8   date posted           80332 non-null  object \n",
      " 9   latitude              80332 non-null  object \n",
      " 10  longitude             80332 non-null  float64\n",
      "dtypes: float64(1), object(10)\n",
      "memory usage: 6.7+ MB\n"
     ]
    }
   ],
   "source": [
    "# Load dataset\n",
    "df_sightings = pd.read_csv(\"/kaggle/input/ufo-sightings/scrubbed.csv\")\n",
    "\n",
    "# Preview dataset\n",
    "print(\"Dataset Columns:\", df_sightings.columns)\n",
    "print(\"Dataset Shape:\", df_sightings.shape)\n",
    "df_sightings.info()"
   ]
  },
  {
   "cell_type": "code",
   "execution_count": 3,
   "id": "8941a06f",
   "metadata": {
    "execution": {
     "iopub.execute_input": "2024-12-11T16:15:04.563596Z",
     "iopub.status.busy": "2024-12-11T16:15:04.563097Z",
     "iopub.status.idle": "2024-12-11T16:15:04.589220Z",
     "shell.execute_reply": "2024-12-11T16:15:04.588140Z"
    },
    "papermill": {
     "duration": 0.036748,
     "end_time": "2024-12-11T16:15:04.591618",
     "exception": false,
     "start_time": "2024-12-11T16:15:04.554870",
     "status": "completed"
    },
    "tags": []
   },
   "outputs": [
    {
     "data": {
      "text/html": [
       "<div>\n",
       "<style scoped>\n",
       "    .dataframe tbody tr th:only-of-type {\n",
       "        vertical-align: middle;\n",
       "    }\n",
       "\n",
       "    .dataframe tbody tr th {\n",
       "        vertical-align: top;\n",
       "    }\n",
       "\n",
       "    .dataframe thead th {\n",
       "        text-align: right;\n",
       "    }\n",
       "</style>\n",
       "<table border=\"1\" class=\"dataframe\">\n",
       "  <thead>\n",
       "    <tr style=\"text-align: right;\">\n",
       "      <th></th>\n",
       "      <th>datetime</th>\n",
       "      <th>city</th>\n",
       "      <th>state</th>\n",
       "      <th>country</th>\n",
       "      <th>shape</th>\n",
       "      <th>duration (seconds)</th>\n",
       "      <th>duration (hours/min)</th>\n",
       "      <th>comments</th>\n",
       "      <th>date posted</th>\n",
       "      <th>latitude</th>\n",
       "      <th>longitude</th>\n",
       "    </tr>\n",
       "  </thead>\n",
       "  <tbody>\n",
       "    <tr>\n",
       "      <th>0</th>\n",
       "      <td>10/10/1949 20:30</td>\n",
       "      <td>san marcos</td>\n",
       "      <td>tx</td>\n",
       "      <td>us</td>\n",
       "      <td>cylinder</td>\n",
       "      <td>2700</td>\n",
       "      <td>45 minutes</td>\n",
       "      <td>This event took place in early fall around 194...</td>\n",
       "      <td>4/27/2004</td>\n",
       "      <td>29.8830556</td>\n",
       "      <td>-97.941111</td>\n",
       "    </tr>\n",
       "    <tr>\n",
       "      <th>1</th>\n",
       "      <td>10/10/1949 21:00</td>\n",
       "      <td>lackland afb</td>\n",
       "      <td>tx</td>\n",
       "      <td>NaN</td>\n",
       "      <td>light</td>\n",
       "      <td>7200</td>\n",
       "      <td>1-2 hrs</td>\n",
       "      <td>1949 Lackland AFB&amp;#44 TX.  Lights racing acros...</td>\n",
       "      <td>12/16/2005</td>\n",
       "      <td>29.38421</td>\n",
       "      <td>-98.581082</td>\n",
       "    </tr>\n",
       "    <tr>\n",
       "      <th>2</th>\n",
       "      <td>10/10/1955 17:00</td>\n",
       "      <td>chester (uk/england)</td>\n",
       "      <td>NaN</td>\n",
       "      <td>gb</td>\n",
       "      <td>circle</td>\n",
       "      <td>20</td>\n",
       "      <td>20 seconds</td>\n",
       "      <td>Green/Orange circular disc over Chester&amp;#44 En...</td>\n",
       "      <td>1/21/2008</td>\n",
       "      <td>53.2</td>\n",
       "      <td>-2.916667</td>\n",
       "    </tr>\n",
       "    <tr>\n",
       "      <th>3</th>\n",
       "      <td>10/10/1956 21:00</td>\n",
       "      <td>edna</td>\n",
       "      <td>tx</td>\n",
       "      <td>us</td>\n",
       "      <td>circle</td>\n",
       "      <td>20</td>\n",
       "      <td>1/2 hour</td>\n",
       "      <td>My older brother and twin sister were leaving ...</td>\n",
       "      <td>1/17/2004</td>\n",
       "      <td>28.9783333</td>\n",
       "      <td>-96.645833</td>\n",
       "    </tr>\n",
       "    <tr>\n",
       "      <th>4</th>\n",
       "      <td>10/10/1960 20:00</td>\n",
       "      <td>kaneohe</td>\n",
       "      <td>hi</td>\n",
       "      <td>us</td>\n",
       "      <td>light</td>\n",
       "      <td>900</td>\n",
       "      <td>15 minutes</td>\n",
       "      <td>AS a Marine 1st Lt. flying an FJ4B fighter/att...</td>\n",
       "      <td>1/22/2004</td>\n",
       "      <td>21.4180556</td>\n",
       "      <td>-157.803611</td>\n",
       "    </tr>\n",
       "  </tbody>\n",
       "</table>\n",
       "</div>"
      ],
      "text/plain": [
       "           datetime                  city state country     shape  \\\n",
       "0  10/10/1949 20:30            san marcos    tx      us  cylinder   \n",
       "1  10/10/1949 21:00          lackland afb    tx     NaN     light   \n",
       "2  10/10/1955 17:00  chester (uk/england)   NaN      gb    circle   \n",
       "3  10/10/1956 21:00                  edna    tx      us    circle   \n",
       "4  10/10/1960 20:00               kaneohe    hi      us     light   \n",
       "\n",
       "  duration (seconds) duration (hours/min)  \\\n",
       "0               2700           45 minutes   \n",
       "1               7200              1-2 hrs   \n",
       "2                 20           20 seconds   \n",
       "3                 20             1/2 hour   \n",
       "4                900           15 minutes   \n",
       "\n",
       "                                            comments date posted    latitude  \\\n",
       "0  This event took place in early fall around 194...   4/27/2004  29.8830556   \n",
       "1  1949 Lackland AFB&#44 TX.  Lights racing acros...  12/16/2005    29.38421   \n",
       "2  Green/Orange circular disc over Chester&#44 En...   1/21/2008        53.2   \n",
       "3  My older brother and twin sister were leaving ...   1/17/2004  28.9783333   \n",
       "4  AS a Marine 1st Lt. flying an FJ4B fighter/att...   1/22/2004  21.4180556   \n",
       "\n",
       "   longitude   \n",
       "0  -97.941111  \n",
       "1  -98.581082  \n",
       "2   -2.916667  \n",
       "3  -96.645833  \n",
       "4 -157.803611  "
      ]
     },
     "execution_count": 3,
     "metadata": {},
     "output_type": "execute_result"
    }
   ],
   "source": [
    "# View first 5 records in dataset\n",
    "df_sightings.head()"
   ]
  },
  {
   "cell_type": "markdown",
   "id": "a5843bb7",
   "metadata": {
    "papermill": {
     "duration": 0.005588,
     "end_time": "2024-12-11T16:15:04.603097",
     "exception": false,
     "start_time": "2024-12-11T16:15:04.597509",
     "status": "completed"
    },
    "tags": []
   },
   "source": [
    "#### Data Cleansing\n"
   ]
  },
  {
   "cell_type": "markdown",
   "id": "bcffe562",
   "metadata": {
    "papermill": {
     "duration": 0.00547,
     "end_time": "2024-12-11T16:15:04.614285",
     "exception": false,
     "start_time": "2024-12-11T16:15:04.608815",
     "status": "completed"
    },
    "tags": []
   },
   "source": [
    "##### Handling Missing Values\n"
   ]
  },
  {
   "cell_type": "code",
   "execution_count": 4,
   "id": "dbff7939",
   "metadata": {
    "execution": {
     "iopub.execute_input": "2024-12-11T16:15:04.629829Z",
     "iopub.status.busy": "2024-12-11T16:15:04.629461Z",
     "iopub.status.idle": "2024-12-11T16:15:04.765165Z",
     "shell.execute_reply": "2024-12-11T16:15:04.763894Z"
    },
    "papermill": {
     "duration": 0.144648,
     "end_time": "2024-12-11T16:15:04.767145",
     "exception": false,
     "start_time": "2024-12-11T16:15:04.622497",
     "status": "completed"
    },
    "tags": []
   },
   "outputs": [
    {
     "name": "stdout",
     "output_type": "stream",
     "text": [
      "Missing values before cleaning:\n",
      "datetime                   0\n",
      "city                       0\n",
      "state                   5797\n",
      "country                 9670\n",
      "shape                   1932\n",
      "duration (seconds)         0\n",
      "duration (hours/min)       0\n",
      "comments                  15\n",
      "date posted                0\n",
      "latitude                   0\n",
      "longitude                  0\n",
      "dtype: int64\n",
      "Missing values after cleaning:\n",
      "datetime                   0\n",
      "city                       0\n",
      "state                   2464\n",
      "country                    0\n",
      "shape                      0\n",
      "duration (seconds)         0\n",
      "duration (hours/min)       0\n",
      "comments                   8\n",
      "date posted                0\n",
      "latitude                   0\n",
      "longitude                  0\n",
      "dtype: int64\n"
     ]
    }
   ],
   "source": [
    "# Count missing values before cleaning\n",
    "print(\"Missing values before cleaning:\")\n",
    "print(df_sightings.isnull().sum())\n",
    "\n",
    "# Retain rows with valid state or specific countries\n",
    "# keeping gb, au, and de as they dont have states and we might want to use them at a later stage\n",
    "filtered_countries = ['gb', 'au', 'de']\n",
    "df_filtered = df_sightings[\n",
    "    (df_sightings['country'].isin(filtered_countries)) |\n",
    "    (df_sightings['state'].notna())\n",
    "]\n",
    "\n",
    "# Drop rows with missing key values\n",
    "df_filtered = df_filtered.dropna(subset=['country', 'city', 'shape'])\n",
    "\n",
    "# Count missing values after cleaning\n",
    "print(\"Missing values after cleaning:\")\n",
    "print(df_filtered.isnull().sum())"
   ]
  },
  {
   "cell_type": "markdown",
   "id": "1fd349d7",
   "metadata": {
    "papermill": {
     "duration": 0.005638,
     "end_time": "2024-12-11T16:15:04.778734",
     "exception": false,
     "start_time": "2024-12-11T16:15:04.773096",
     "status": "completed"
    },
    "tags": []
   },
   "source": [
    "##### Convert and Extract Features"
   ]
  },
  {
   "cell_type": "code",
   "execution_count": 5,
   "id": "69a495c9",
   "metadata": {
    "execution": {
     "iopub.execute_input": "2024-12-11T16:15:04.792251Z",
     "iopub.status.busy": "2024-12-11T16:15:04.791227Z",
     "iopub.status.idle": "2024-12-11T16:15:05.047486Z",
     "shell.execute_reply": "2024-12-11T16:15:05.046172Z"
    },
    "papermill": {
     "duration": 0.265386,
     "end_time": "2024-12-11T16:15:05.049768",
     "exception": false,
     "start_time": "2024-12-11T16:15:04.784382",
     "status": "completed"
    },
    "tags": []
   },
   "outputs": [
    {
     "name": "stdout",
     "output_type": "stream",
     "text": [
      "Invalid datetime entries: 524\n"
     ]
    }
   ],
   "source": [
    "# Convert datetime to the correct format\n",
    "df_filtered['datetime'] = pd.to_datetime(df_filtered['datetime'], errors='coerce')\n",
    "print(f\"Invalid datetime entries: {df_filtered['datetime'].isnull().sum()}\")\n",
    "\n",
    "# Convert duration to numeric value\n",
    "df_filtered['duration (seconds)'] = pd.to_numeric(df_filtered['duration (seconds)'], errors='coerce')\n",
    "\n",
    "# Extract year and month features\n",
    "df_filtered['year'] = df_filtered['datetime'].dt.year\n",
    "df_filtered['month'] = df_filtered['datetime'].dt.month\n",
    "\n",
    "# Drop redundant columns\n",
    "df_filtered.drop(columns=['duration (hours/min)'], inplace=True)"
   ]
  },
  {
   "cell_type": "code",
   "execution_count": 6,
   "id": "e90a6dd6",
   "metadata": {
    "execution": {
     "iopub.execute_input": "2024-12-11T16:15:05.063543Z",
     "iopub.status.busy": "2024-12-11T16:15:05.062779Z",
     "iopub.status.idle": "2024-12-11T16:15:05.103375Z",
     "shell.execute_reply": "2024-12-11T16:15:05.102262Z"
    },
    "papermill": {
     "duration": 0.049999,
     "end_time": "2024-12-11T16:15:05.105662",
     "exception": false,
     "start_time": "2024-12-11T16:15:05.055663",
     "status": "completed"
    },
    "tags": []
   },
   "outputs": [
    {
     "name": "stdout",
     "output_type": "stream",
     "text": [
      "Cleaned Data Info:\n",
      "<class 'pandas.core.frame.DataFrame'>\n",
      "Index: 68988 entries, 0 to 80331\n",
      "Data columns (total 12 columns):\n",
      " #   Column              Non-Null Count  Dtype         \n",
      "---  ------              --------------  -----         \n",
      " 0   datetime            68464 non-null  datetime64[ns]\n",
      " 1   city                68988 non-null  object        \n",
      " 2   state               66524 non-null  object        \n",
      " 3   country             68988 non-null  object        \n",
      " 4   shape               68988 non-null  object        \n",
      " 5   duration (seconds)  68988 non-null  float64       \n",
      " 6   comments            68980 non-null  object        \n",
      " 7   date posted         68988 non-null  object        \n",
      " 8   latitude            68988 non-null  object        \n",
      " 9   longitude           68988 non-null  float64       \n",
      " 10  year                68464 non-null  float64       \n",
      " 11  month               68464 non-null  float64       \n",
      "dtypes: datetime64[ns](1), float64(4), object(7)\n",
      "memory usage: 6.8+ MB\n",
      "None\n",
      "             datetime                  city state country     shape  \\\n",
      "0 1949-10-10 20:30:00            san marcos    tx      us  cylinder   \n",
      "2 1955-10-10 17:00:00  chester (uk/england)   NaN      gb    circle   \n",
      "3 1956-10-10 21:00:00                  edna    tx      us    circle   \n",
      "4 1960-10-10 20:00:00               kaneohe    hi      us     light   \n",
      "5 1961-10-10 19:00:00               bristol    tn      us    sphere   \n",
      "\n",
      "   duration (seconds)                                           comments  \\\n",
      "0              2700.0  This event took place in early fall around 194...   \n",
      "2                20.0  Green/Orange circular disc over Chester&#44 En...   \n",
      "3                20.0  My older brother and twin sister were leaving ...   \n",
      "4               900.0  AS a Marine 1st Lt. flying an FJ4B fighter/att...   \n",
      "5               300.0  My father is now 89 my brother 52 the girl wit...   \n",
      "\n",
      "  date posted    latitude  longitude     year  month  \n",
      "0   4/27/2004  29.8830556  -97.941111  1949.0   10.0  \n",
      "2   1/21/2008        53.2   -2.916667  1955.0   10.0  \n",
      "3   1/17/2004  28.9783333  -96.645833  1956.0   10.0  \n",
      "4   1/22/2004  21.4180556 -157.803611  1960.0   10.0  \n",
      "5   4/27/2007  36.5950000  -82.188889  1961.0   10.0  \n"
     ]
    }
   ],
   "source": [
    "print(\"Cleaned Data Info:\")\n",
    "print(df_filtered.info())\n",
    "print(df_filtered.head())"
   ]
  },
  {
   "cell_type": "markdown",
   "id": "a846a9c9",
   "metadata": {
    "papermill": {
     "duration": 0.006173,
     "end_time": "2024-12-11T16:15:05.117730",
     "exception": false,
     "start_time": "2024-12-11T16:15:05.111557",
     "status": "completed"
    },
    "tags": []
   },
   "source": [
    "#### Analysis\n"
   ]
  },
  {
   "cell_type": "markdown",
   "id": "47927372",
   "metadata": {
    "papermill": {
     "duration": 0.005887,
     "end_time": "2024-12-11T16:15:05.130085",
     "exception": false,
     "start_time": "2024-12-11T16:15:05.124198",
     "status": "completed"
    },
    "tags": []
   },
   "source": [
    "##### Sightings per Year"
   ]
  },
  {
   "cell_type": "code",
   "execution_count": 7,
   "id": "38cd7f6b",
   "metadata": {
    "execution": {
     "iopub.execute_input": "2024-12-11T16:15:05.143629Z",
     "iopub.status.busy": "2024-12-11T16:15:05.143264Z",
     "iopub.status.idle": "2024-12-11T16:15:07.041836Z",
     "shell.execute_reply": "2024-12-11T16:15:07.040648Z"
    },
    "papermill": {
     "duration": 1.908038,
     "end_time": "2024-12-11T16:15:07.044127",
     "exception": false,
     "start_time": "2024-12-11T16:15:05.136089",
     "status": "completed"
    },
    "tags": []
   },
   "outputs": [
    {
     "data": {
      "text/html": [
       "<iframe\n",
       "    scrolling=\"no\"\n",
       "    width=\"100%\"\n",
       "    height=\"545px\"\n",
       "    src=\"iframe_figures/figure_7.html\"\n",
       "    frameborder=\"0\"\n",
       "    allowfullscreen\n",
       "></iframe>\n"
      ]
     },
     "metadata": {},
     "output_type": "display_data"
    }
   ],
   "source": [
    "# Group sightings by year\n",
    "sightings_by_year = df_filtered.groupby('year').size().reset_index(name='sightings')\n",
    "\n",
    "# Bar plot for yearly trends\n",
    "fig = px.bar(\n",
    "    sightings_by_year, x='year', y='sightings',\n",
    "    labels={'year': 'Year', 'sightings': 'Number of Sightings'},\n",
    "    title='Number of UFO Sightings per Year'\n",
    ")\n",
    "\n",
    "fig.update_traces(marker_color='skyblue')\n",
    "\n",
    "fig.show(renderer='iframe')"
   ]
  },
  {
   "cell_type": "markdown",
   "id": "fd4d85c1",
   "metadata": {
    "papermill": {
     "duration": 0.005868,
     "end_time": "2024-12-11T16:15:07.056175",
     "exception": false,
     "start_time": "2024-12-11T16:15:07.050307",
     "status": "completed"
    },
    "tags": []
   },
   "source": [
    "##### Sightings per Month"
   ]
  },
  {
   "cell_type": "code",
   "execution_count": 8,
   "id": "1fa7bc6b",
   "metadata": {
    "execution": {
     "iopub.execute_input": "2024-12-11T16:15:07.069516Z",
     "iopub.status.busy": "2024-12-11T16:15:07.069087Z",
     "iopub.status.idle": "2024-12-11T16:15:07.158664Z",
     "shell.execute_reply": "2024-12-11T16:15:07.157646Z"
    },
    "papermill": {
     "duration": 0.098915,
     "end_time": "2024-12-11T16:15:07.160960",
     "exception": false,
     "start_time": "2024-12-11T16:15:07.062045",
     "status": "completed"
    },
    "tags": []
   },
   "outputs": [
    {
     "data": {
      "text/html": [
       "<iframe\n",
       "    scrolling=\"no\"\n",
       "    width=\"100%\"\n",
       "    height=\"545px\"\n",
       "    src=\"iframe_figures/figure_8.html\"\n",
       "    frameborder=\"0\"\n",
       "    allowfullscreen\n",
       "></iframe>\n"
      ]
     },
     "metadata": {},
     "output_type": "display_data"
    }
   ],
   "source": [
    "# Sightings by month\n",
    "sightings_by_month = df_filtered.groupby('month').size().reset_index(name='sightings')\n",
    "fig = px.bar(\n",
    "    sightings_by_month, x='month', y='sightings',\n",
    "    labels={'month': 'Month', 'sightings': 'Number of Sightings'},\n",
    "    title='Number of UFO Sightings per Month'\n",
    ")\n",
    "fig.update_traces(marker_color='skyblue')\n",
    "fig.show(renderer='iframe')"
   ]
  },
  {
   "cell_type": "markdown",
   "id": "0b1b3e3a",
   "metadata": {
    "papermill": {
     "duration": 0.005753,
     "end_time": "2024-12-11T16:15:07.172977",
     "exception": false,
     "start_time": "2024-12-11T16:15:07.167224",
     "status": "completed"
    },
    "tags": []
   },
   "source": [
    "##### Sightings per Hour"
   ]
  },
  {
   "cell_type": "code",
   "execution_count": 9,
   "id": "5e60d186",
   "metadata": {
    "execution": {
     "iopub.execute_input": "2024-12-11T16:15:07.186595Z",
     "iopub.status.busy": "2024-12-11T16:15:07.186225Z",
     "iopub.status.idle": "2024-12-11T16:15:07.284539Z",
     "shell.execute_reply": "2024-12-11T16:15:07.283640Z"
    },
    "papermill": {
     "duration": 0.10775,
     "end_time": "2024-12-11T16:15:07.286724",
     "exception": false,
     "start_time": "2024-12-11T16:15:07.178974",
     "status": "completed"
    },
    "tags": []
   },
   "outputs": [
    {
     "data": {
      "text/html": [
       "<iframe\n",
       "    scrolling=\"no\"\n",
       "    width=\"100%\"\n",
       "    height=\"545px\"\n",
       "    src=\"iframe_figures/figure_9.html\"\n",
       "    frameborder=\"0\"\n",
       "    allowfullscreen\n",
       "></iframe>\n"
      ]
     },
     "metadata": {},
     "output_type": "display_data"
    }
   ],
   "source": [
    "\n",
    "# Sightings by hour\n",
    "df_filtered['hour'] = df_filtered['datetime'].dt.hour\n",
    "sightings_by_hour = df_filtered.groupby('hour').size().reset_index(name='sightings')\n",
    "fig = px.bar(\n",
    "    sightings_by_hour, x='hour', y='sightings',\n",
    "    labels={'hour': 'Hour', 'sightings': 'Number of Sightings'},\n",
    "    title='Number of UFO Sightings per Hour'\n",
    ")\n",
    "fig.update_traces(marker_color='skyblue')\n",
    "fig.show(renderer='iframe')"
   ]
  },
  {
   "cell_type": "markdown",
   "id": "21472783",
   "metadata": {
    "papermill": {
     "duration": 0.005845,
     "end_time": "2024-12-11T16:15:07.299072",
     "exception": false,
     "start_time": "2024-12-11T16:15:07.293227",
     "status": "completed"
    },
    "tags": []
   },
   "source": [
    "##### Sightings by Country"
   ]
  },
  {
   "cell_type": "code",
   "execution_count": 10,
   "id": "7e45fab0",
   "metadata": {
    "execution": {
     "iopub.execute_input": "2024-12-11T16:15:07.313458Z",
     "iopub.status.busy": "2024-12-11T16:15:07.312649Z",
     "iopub.status.idle": "2024-12-11T16:15:07.421897Z",
     "shell.execute_reply": "2024-12-11T16:15:07.420858Z"
    },
    "papermill": {
     "duration": 0.1187,
     "end_time": "2024-12-11T16:15:07.423898",
     "exception": false,
     "start_time": "2024-12-11T16:15:07.305198",
     "status": "completed"
    },
    "tags": []
   },
   "outputs": [
    {
     "data": {
      "text/html": [
       "<iframe\n",
       "    scrolling=\"no\"\n",
       "    width=\"100%\"\n",
       "    height=\"545px\"\n",
       "    src=\"iframe_figures/figure_10.html\"\n",
       "    frameborder=\"0\"\n",
       "    allowfullscreen\n",
       "></iframe>\n"
      ]
     },
     "metadata": {},
     "output_type": "display_data"
    }
   ],
   "source": [
    "# Group sightings by country\n",
    "sightings_by_country = df_filtered.groupby('country').size().reset_index(name='sightings')\n",
    "sightings_by_country['proportion'] = sightings_by_country['sightings'] / sightings_by_country['sightings'].sum()\n",
    "\n",
    "# Aggregate small proportions into \"Other\"\n",
    "threshold = 0.02\n",
    "sightings_by_country['country'] = np.where(\n",
    "    sightings_by_country['proportion'] < threshold, \n",
    "    'Other',\n",
    "    sightings_by_country['country']\n",
    ")\n",
    "\n",
    "# Pie chart\n",
    "fig = px.pie(\n",
    "    sightings_by_country, names='country', values='sightings',\n",
    "    labels={'country': 'Country', 'sightings': 'Number of Sightings'},\n",
    "    title='Proportion of UFO Sightings by Country'\n",
    ")\n",
    "fig.show(renderer='iframe')"
   ]
  },
  {
   "cell_type": "markdown",
   "id": "25445e53",
   "metadata": {
    "papermill": {
     "duration": 0.005921,
     "end_time": "2024-12-11T16:15:07.436323",
     "exception": false,
     "start_time": "2024-12-11T16:15:07.430402",
     "status": "completed"
    },
    "tags": []
   },
   "source": [
    "##### Sightings by US State"
   ]
  },
  {
   "cell_type": "code",
   "execution_count": 11,
   "id": "211a8467",
   "metadata": {
    "execution": {
     "iopub.execute_input": "2024-12-11T16:15:07.450375Z",
     "iopub.status.busy": "2024-12-11T16:15:07.449981Z",
     "iopub.status.idle": "2024-12-11T16:15:07.568558Z",
     "shell.execute_reply": "2024-12-11T16:15:07.567670Z"
    },
    "papermill": {
     "duration": 0.127926,
     "end_time": "2024-12-11T16:15:07.570526",
     "exception": false,
     "start_time": "2024-12-11T16:15:07.442600",
     "status": "completed"
    },
    "tags": []
   },
   "outputs": [
    {
     "data": {
      "text/html": [
       "<iframe\n",
       "    scrolling=\"no\"\n",
       "    width=\"100%\"\n",
       "    height=\"545px\"\n",
       "    src=\"iframe_figures/figure_11.html\"\n",
       "    frameborder=\"0\"\n",
       "    allowfullscreen\n",
       "></iframe>\n"
      ]
     },
     "metadata": {},
     "output_type": "display_data"
    }
   ],
   "source": [
    "df_us = df_filtered[df_filtered['country'] == 'us']\n",
    "\n",
    "# Group by state and count the number of sightings\n",
    "sightings_by_state = df_us.groupby('state').size().reset_index(name='sightings')\n",
    "sightings_by_state = sightings_by_state.sort_values(by='sightings', ascending=False)\n",
    "# Create the interactive bar plot using Plotly Express\n",
    "fig = px.bar(sightings_by_state, x='state', y='sightings', \n",
    "             labels={'state': 'State', 'sightings': 'Number of Sightings'},\n",
    "             title='Number of UFO Sightings by State in the US')\n",
    "\n",
    "# Customize the plot appearance\n",
    "fig.update_traces(marker_color='skyblue')\n",
    "fig.update_layout(xaxis_title='State', yaxis_title='Number of Sightings', \n",
    "                  xaxis=dict(tickangle=45))  # Rotate x-axis labels for better readability\n",
    "\n",
    "# Show the plot\n",
    "fig.show(renderer='iframe')"
   ]
  },
  {
   "cell_type": "markdown",
   "id": "c362de13",
   "metadata": {
    "papermill": {
     "duration": 0.006067,
     "end_time": "2024-12-11T16:15:07.582956",
     "exception": false,
     "start_time": "2024-12-11T16:15:07.576889",
     "status": "completed"
    },
    "tags": []
   },
   "source": [
    "##### Sightings by Cities in Great Britain\n"
   ]
  },
  {
   "cell_type": "code",
   "execution_count": 12,
   "id": "c60a8fab",
   "metadata": {
    "execution": {
     "iopub.execute_input": "2024-12-11T16:15:07.597394Z",
     "iopub.status.busy": "2024-12-11T16:15:07.596578Z",
     "iopub.status.idle": "2024-12-11T16:15:07.698023Z",
     "shell.execute_reply": "2024-12-11T16:15:07.696888Z"
    },
    "papermill": {
     "duration": 0.111102,
     "end_time": "2024-12-11T16:15:07.700281",
     "exception": false,
     "start_time": "2024-12-11T16:15:07.589179",
     "status": "completed"
    },
    "tags": []
   },
   "outputs": [
    {
     "data": {
      "text/html": [
       "<iframe\n",
       "    scrolling=\"no\"\n",
       "    width=\"100%\"\n",
       "    height=\"545px\"\n",
       "    src=\"iframe_figures/figure_12.html\"\n",
       "    frameborder=\"0\"\n",
       "    allowfullscreen\n",
       "></iframe>\n"
      ]
     },
     "metadata": {},
     "output_type": "display_data"
    }
   ],
   "source": [
    "# Filter the data for the United Kingdom (GB)\n",
    "df_gb = df_filtered[df_filtered['country'] == 'gb']  \n",
    "\n",
    "# Clean the city names by removing the parentheses\n",
    "df_gb['city_cleaned'] = df_gb['city'].apply(lambda x: re.sub(r'\\(.*\\)', '', str(x)).strip())\n",
    "\n",
    "# Count the number of sightings per cleaned city\n",
    "city_sightings_gb = df_gb['city_cleaned'].value_counts().reset_index()\n",
    "city_sightings_gb.columns = ['City', 'Sightings']\n",
    "\n",
    "# Create an interactive bar plot with city on the x-axis and sightings on the y-axis\n",
    "fig = px.bar(\n",
    "    city_sightings_gb.head(20),  # Top 20 cities with most sightings\n",
    "    x='City', \n",
    "    y='Sightings', \n",
    "    title='Top 20 Cities with Most UFO Sightings in Great Britain',\n",
    "    labels={'City': 'City', 'Sightings': 'Number of Sightings'},\n",
    ")\n",
    "fig.update_traces(marker_color='skyblue')\n",
    "\n",
    "# Show the plot\n",
    "fig.show(renderer='iframe')"
   ]
  },
  {
   "cell_type": "markdown",
   "id": "2e4554f5",
   "metadata": {
    "papermill": {
     "duration": 0.00612,
     "end_time": "2024-12-11T16:15:07.713182",
     "exception": false,
     "start_time": "2024-12-11T16:15:07.707062",
     "status": "completed"
    },
    "tags": []
   },
   "source": [
    "##### Sightings by UFO Shape"
   ]
  },
  {
   "cell_type": "code",
   "execution_count": 13,
   "id": "6728dd53",
   "metadata": {
    "execution": {
     "iopub.execute_input": "2024-12-11T16:15:07.727379Z",
     "iopub.status.busy": "2024-12-11T16:15:07.726958Z",
     "iopub.status.idle": "2024-12-11T16:15:07.825867Z",
     "shell.execute_reply": "2024-12-11T16:15:07.824865Z"
    },
    "papermill": {
     "duration": 0.108538,
     "end_time": "2024-12-11T16:15:07.827939",
     "exception": false,
     "start_time": "2024-12-11T16:15:07.719401",
     "status": "completed"
    },
    "tags": []
   },
   "outputs": [
    {
     "data": {
      "text/html": [
       "<iframe\n",
       "    scrolling=\"no\"\n",
       "    width=\"100%\"\n",
       "    height=\"545px\"\n",
       "    src=\"iframe_figures/figure_13.html\"\n",
       "    frameborder=\"0\"\n",
       "    allowfullscreen\n",
       "></iframe>\n"
      ]
     },
     "metadata": {},
     "output_type": "display_data"
    }
   ],
   "source": [
    "# Distribution of UFO shapes\n",
    "shape_counts = df_filtered['shape'].value_counts().reset_index()\n",
    "shape_counts.columns = ['Shape', 'Sightings']\n",
    "\n",
    "fig = px.bar(\n",
    "    shape_counts, x='Shape', y='Sightings',\n",
    "    labels={'Shape': 'Shape', 'Sightings': 'Number of Sightings'},\n",
    "    title='Distribution of UFO Shapes'\n",
    ")\n",
    "fig.update_layout(xaxis_title=\"UFO Shape\", yaxis_title=\"Frequency\", xaxis=dict(tickangle=45))\n",
    "fig.update_traces(marker_color='skyblue')\n",
    "fig.show(renderer='iframe')"
   ]
  },
  {
   "cell_type": "code",
   "execution_count": 14,
   "id": "d3c2023f",
   "metadata": {
    "execution": {
     "iopub.execute_input": "2024-12-11T16:15:07.843003Z",
     "iopub.status.busy": "2024-12-11T16:15:07.842197Z",
     "iopub.status.idle": "2024-12-11T16:15:12.093798Z",
     "shell.execute_reply": "2024-12-11T16:15:12.092729Z"
    },
    "papermill": {
     "duration": 4.261733,
     "end_time": "2024-12-11T16:15:12.096287",
     "exception": false,
     "start_time": "2024-12-11T16:15:07.834554",
     "status": "completed"
    },
    "tags": []
   },
   "outputs": [
    {
     "data": {
      "text/html": [
       "<iframe\n",
       "    scrolling=\"no\"\n",
       "    width=\"100%\"\n",
       "    height=\"545px\"\n",
       "    src=\"iframe_figures/figure_14.html\"\n",
       "    frameborder=\"0\"\n",
       "    allowfullscreen\n",
       "></iframe>\n"
      ]
     },
     "metadata": {},
     "output_type": "display_data"
    }
   ],
   "source": [
    "# Generate word cloud from comments\n",
    "all_comments = \" \".join(df_filtered['comments'].dropna())\n",
    "wordcloud = WordCloud(\n",
    "    width=800, height=400, background_color=\"white\"\n",
    ").generate(all_comments)\n",
    "\n",
    "# Display the word cloud\n",
    "fig = go.Figure(data=[go.Image(z=wordcloud.to_array())])\n",
    "fig.update_layout(title=\"Word Cloud of Comments\")\n",
    "fig.show(renderer='iframe')"
   ]
  },
  {
   "cell_type": "markdown",
   "id": "22a202a5",
   "metadata": {
    "papermill": {
     "duration": 0.006311,
     "end_time": "2024-12-11T16:15:12.109785",
     "exception": false,
     "start_time": "2024-12-11T16:15:12.103474",
     "status": "completed"
    },
    "tags": []
   },
   "source": [
    "#### Findings\n"
   ]
  },
  {
   "cell_type": "markdown",
   "id": "d0cb59d9",
   "metadata": {
    "papermill": {
     "duration": 0.006348,
     "end_time": "2024-12-11T16:15:12.122695",
     "exception": false,
     "start_time": "2024-12-11T16:15:12.116347",
     "status": "completed"
    },
    "tags": []
   },
   "source": [
    "Based on the information above we can now answer our initial questions:\n",
    "\n",
    "  <b>1. In which states, countries or cities do most UFO sightings occur?</b>\n",
    "    \n",
    "  - The United States accounts for 92% of all UFO sightings, followed by Canada and Great Britain. \n",
    "  - Within the US, California has the highest number of sightings\n",
    "  - July is the month with the most UFO sightings overall\n",
    "\n",
    "  <b>2. Are UFO sightings increasing or decreasing over time?</b>\n",
    "\n",
    "  - UFO sightings appear to be increasing over time, with 3,725 sightings reported in 2010 compared to 6,552 in 2012, representing a 75% increase\n",
    "    \n",
    "  <b>3. What are the most commonly reported shapes of UFOs? </b>\n",
    "\n",
    "  - The most commonly reported shapes are \"Light\" followed by \"Triangle\" and \"Circle\"\n",
    "  \n",
    "  <b> 4. What are common keywords or phrases in UFO descriptions, and do recurring themes emerge? </b>\n",
    "\n",
    "  - The most common phrases/keywords are \"Sky\" and \"Light\""
   ]
  }
 ],
 "metadata": {
  "kaggle": {
   "accelerator": "none",
   "dataSources": [
    {
     "datasetId": 388,
     "sourceId": 793053,
     "sourceType": "datasetVersion"
    }
   ],
   "dockerImageVersionId": 30804,
   "isGpuEnabled": false,
   "isInternetEnabled": true,
   "language": "python",
   "sourceType": "notebook"
  },
  "kernelspec": {
   "display_name": "Python 3",
   "language": "python",
   "name": "python3"
  },
  "language_info": {
   "codemirror_mode": {
    "name": "ipython",
    "version": 3
   },
   "file_extension": ".py",
   "mimetype": "text/x-python",
   "name": "python",
   "nbconvert_exporter": "python",
   "pygments_lexer": "ipython3",
   "version": "3.10.14"
  },
  "papermill": {
   "default_parameters": {},
   "duration": 14.744384,
   "end_time": "2024-12-11T16:15:12.850388",
   "environment_variables": {},
   "exception": null,
   "input_path": "__notebook__.ipynb",
   "output_path": "__notebook__.ipynb",
   "parameters": {},
   "start_time": "2024-12-11T16:14:58.106004",
   "version": "2.6.0"
  }
 },
 "nbformat": 4,
 "nbformat_minor": 5
}
