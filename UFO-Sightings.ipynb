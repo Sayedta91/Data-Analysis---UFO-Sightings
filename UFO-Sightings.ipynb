{
 "cells": [
  {
   "cell_type": "markdown",
   "id": "24d923e2",
   "metadata": {
    "papermill": {
     "duration": 0.006533,
     "end_time": "2024-12-11T16:18:09.057561",
     "exception": false,
     "start_time": "2024-12-11T16:18:09.051028",
     "status": "completed"
    },
    "tags": []
   },
   "source": [
    "# UFO Sightings "
   ]
  },
  {
   "cell_type": "markdown",
   "id": "5ca61ebd",
   "metadata": {
    "papermill": {
     "duration": 0.005164,
     "end_time": "2024-12-11T16:18:09.068539",
     "exception": false,
     "start_time": "2024-12-11T16:18:09.063375",
     "status": "completed"
    },
    "tags": []
   },
   "source": [
    "Several questions came to mind when I first reviewed the dataset:\n",
    "  1. In which states, countries or cities do most UFO sightings occur?\n",
    "  2. Are UFO sightings increasing or decreasing over time?\n",
    "  3. What are the most commonly reported shapes of UFOs?\n",
    "  4. What are common keywords or phrases in UFO descriptions, and do recurring themes emerge?"
   ]
  },
  {
   "cell_type": "markdown",
   "id": "99e07f78",
   "metadata": {
    "papermill": {
     "duration": 0.006823,
     "end_time": "2024-12-11T16:18:09.081039",
     "exception": false,
     "start_time": "2024-12-11T16:18:09.074216",
     "status": "completed"
    },
    "tags": []
   },
   "source": [
    "#### Import Required Libraries and Dataset"
   ]
  },
  {
   "cell_type": "code",
   "execution_count": 1,
   "id": "4fc19517",
   "metadata": {
    "execution": {
     "iopub.execute_input": "2024-12-11T16:18:09.094704Z",
     "iopub.status.busy": "2024-12-11T16:18:09.094250Z",
     "iopub.status.idle": "2024-12-11T16:18:13.189476Z",
     "shell.execute_reply": "2024-12-11T16:18:13.187734Z"
    },
    "papermill": {
     "duration": 4.1068,
     "end_time": "2024-12-11T16:18:13.194055",
     "exception": false,
     "start_time": "2024-12-11T16:18:09.087255",
     "status": "completed"
    },
    "tags": []
   },
   "outputs": [
    {
     "data": {
      "text/html": [
       "        <script type=\"text/javascript\">\n",
       "        window.PlotlyConfig = {MathJaxConfig: 'local'};\n",
       "        if (window.MathJax && window.MathJax.Hub && window.MathJax.Hub.Config) {window.MathJax.Hub.Config({SVG: {font: \"STIX-Web\"}});}\n",
       "        if (typeof require !== 'undefined') {\n",
       "        require.undef(\"plotly\");\n",
       "        requirejs.config({\n",
       "            paths: {\n",
       "                'plotly': ['https://cdn.plot.ly/plotly-2.32.0.min']\n",
       "            }\n",
       "        });\n",
       "        require(['plotly'], function(Plotly) {\n",
       "            window._Plotly = Plotly;\n",
       "        });\n",
       "        }\n",
       "        </script>\n",
       "        "
      ]
     },
     "metadata": {},
     "output_type": "display_data"
    }
   ],
   "source": [
    "import os\n",
    "\n",
    "# Import data manipulation libraries\n",
    "import pandas as pd\n",
    "import numpy as np\n",
    "import datetime as dt\n",
    "\n",
    "# Import visualization libraries\n",
    "import seaborn as sns\n",
    "import matplotlib.pyplot as plt\n",
    "%matplotlib inline\n",
    "import plotly.express as px\n",
    "import plotly.graph_objs as go\n",
    "from plotly.offline import init_notebook_mode\n",
    "init_notebook_mode(connected=True)\n",
    "from wordcloud import WordCloud\n",
    "\n",
    "# Utility libraries\n",
    "from collections import Counter\n",
    "import re\n",
    "import warnings\n",
    "warnings.filterwarnings('ignore')"
   ]
  },
  {
   "cell_type": "markdown",
   "id": "cfab47ef",
   "metadata": {
    "papermill": {
     "duration": 0.005657,
     "end_time": "2024-12-11T16:18:13.206121",
     "exception": false,
     "start_time": "2024-12-11T16:18:13.200464",
     "status": "completed"
    },
    "tags": []
   },
   "source": [
    "#### Basic Data Exploration"
   ]
  },
  {
   "cell_type": "code",
   "execution_count": 2,
   "id": "77e0b6fa",
   "metadata": {
    "execution": {
     "iopub.execute_input": "2024-12-11T16:18:13.220246Z",
     "iopub.status.busy": "2024-12-11T16:18:13.219381Z",
     "iopub.status.idle": "2024-12-11T16:18:13.931112Z",
     "shell.execute_reply": "2024-12-11T16:18:13.929417Z"
    },
    "papermill": {
     "duration": 0.722067,
     "end_time": "2024-12-11T16:18:13.934002",
     "exception": false,
     "start_time": "2024-12-11T16:18:13.211935",
     "status": "completed"
    },
    "tags": []
   },
   "outputs": [
    {
     "name": "stdout",
     "output_type": "stream",
     "text": [
      "Dataset Columns: Index(['datetime', 'city', 'state', 'country', 'shape', 'duration (seconds)',\n",
      "       'duration (hours/min)', 'comments', 'date posted', 'latitude',\n",
      "       'longitude '],\n",
      "      dtype='object')\n",
      "Dataset Shape: (80332, 11)\n",
      "<class 'pandas.core.frame.DataFrame'>\n",
      "RangeIndex: 80332 entries, 0 to 80331\n",
      "Data columns (total 11 columns):\n",
      " #   Column                Non-Null Count  Dtype  \n",
      "---  ------                --------------  -----  \n",
      " 0   datetime              80332 non-null  object \n",
      " 1   city                  80332 non-null  object \n",
      " 2   state                 74535 non-null  object \n",
      " 3   country               70662 non-null  object \n",
      " 4   shape                 78400 non-null  object \n",
      " 5   duration (seconds)    80332 non-null  object \n",
      " 6   duration (hours/min)  80332 non-null  object \n",
      " 7   comments              80317 non-null  object \n",
      " 8   date posted           80332 non-null  object \n",
      " 9   latitude              80332 non-null  object \n",
      " 10  longitude             80332 non-null  float64\n",
      "dtypes: float64(1), object(10)\n",
      "memory usage: 6.7+ MB\n"
     ]
    }
   ],
   "source": [
    "# Load dataset\n",
    "df_sightings = pd.read_csv(\"/kaggle/input/ufo-sightings/scrubbed.csv\")\n",
    "\n",
    "# Preview dataset\n",
    "print(\"Dataset Columns:\", df_sightings.columns)\n",
    "print(\"Dataset Shape:\", df_sightings.shape)\n",
    "df_sightings.info()"
   ]
  },
  {
   "cell_type": "code",
   "execution_count": 3,
   "id": "70d21cec",
   "metadata": {
    "execution": {
     "iopub.execute_input": "2024-12-11T16:18:13.951932Z",
     "iopub.status.busy": "2024-12-11T16:18:13.951440Z",
     "iopub.status.idle": "2024-12-11T16:18:13.980285Z",
     "shell.execute_reply": "2024-12-11T16:18:13.978732Z"
    },
    "papermill": {
     "duration": 0.041569,
     "end_time": "2024-12-11T16:18:13.983163",
     "exception": false,
     "start_time": "2024-12-11T16:18:13.941594",
     "status": "completed"
    },
    "tags": []
   },
   "outputs": [
    {
     "data": {
      "text/html": [
       "<div>\n",
       "<style scoped>\n",
       "    .dataframe tbody tr th:only-of-type {\n",
       "        vertical-align: middle;\n",
       "    }\n",
       "\n",
       "    .dataframe tbody tr th {\n",
       "        vertical-align: top;\n",
       "    }\n",
       "\n",
       "    .dataframe thead th {\n",
       "        text-align: right;\n",
       "    }\n",
       "</style>\n",
       "<table border=\"1\" class=\"dataframe\">\n",
       "  <thead>\n",
       "    <tr style=\"text-align: right;\">\n",
       "      <th></th>\n",
       "      <th>datetime</th>\n",
       "      <th>city</th>\n",
       "      <th>state</th>\n",
       "      <th>country</th>\n",
       "      <th>shape</th>\n",
       "      <th>duration (seconds)</th>\n",
       "      <th>duration (hours/min)</th>\n",
       "      <th>comments</th>\n",
       "      <th>date posted</th>\n",
       "      <th>latitude</th>\n",
       "      <th>longitude</th>\n",
       "    </tr>\n",
       "  </thead>\n",
       "  <tbody>\n",
       "    <tr>\n",
       "      <th>0</th>\n",
       "      <td>10/10/1949 20:30</td>\n",
       "      <td>san marcos</td>\n",
       "      <td>tx</td>\n",
       "      <td>us</td>\n",
       "      <td>cylinder</td>\n",
       "      <td>2700</td>\n",
       "      <td>45 minutes</td>\n",
       "      <td>This event took place in early fall around 194...</td>\n",
       "      <td>4/27/2004</td>\n",
       "      <td>29.8830556</td>\n",
       "      <td>-97.941111</td>\n",
       "    </tr>\n",
       "    <tr>\n",
       "      <th>1</th>\n",
       "      <td>10/10/1949 21:00</td>\n",
       "      <td>lackland afb</td>\n",
       "      <td>tx</td>\n",
       "      <td>NaN</td>\n",
       "      <td>light</td>\n",
       "      <td>7200</td>\n",
       "      <td>1-2 hrs</td>\n",
       "      <td>1949 Lackland AFB&amp;#44 TX.  Lights racing acros...</td>\n",
       "      <td>12/16/2005</td>\n",
       "      <td>29.38421</td>\n",
       "      <td>-98.581082</td>\n",
       "    </tr>\n",
       "    <tr>\n",
       "      <th>2</th>\n",
       "      <td>10/10/1955 17:00</td>\n",
       "      <td>chester (uk/england)</td>\n",
       "      <td>NaN</td>\n",
       "      <td>gb</td>\n",
       "      <td>circle</td>\n",
       "      <td>20</td>\n",
       "      <td>20 seconds</td>\n",
       "      <td>Green/Orange circular disc over Chester&amp;#44 En...</td>\n",
       "      <td>1/21/2008</td>\n",
       "      <td>53.2</td>\n",
       "      <td>-2.916667</td>\n",
       "    </tr>\n",
       "    <tr>\n",
       "      <th>3</th>\n",
       "      <td>10/10/1956 21:00</td>\n",
       "      <td>edna</td>\n",
       "      <td>tx</td>\n",
       "      <td>us</td>\n",
       "      <td>circle</td>\n",
       "      <td>20</td>\n",
       "      <td>1/2 hour</td>\n",
       "      <td>My older brother and twin sister were leaving ...</td>\n",
       "      <td>1/17/2004</td>\n",
       "      <td>28.9783333</td>\n",
       "      <td>-96.645833</td>\n",
       "    </tr>\n",
       "    <tr>\n",
       "      <th>4</th>\n",
       "      <td>10/10/1960 20:00</td>\n",
       "      <td>kaneohe</td>\n",
       "      <td>hi</td>\n",
       "      <td>us</td>\n",
       "      <td>light</td>\n",
       "      <td>900</td>\n",
       "      <td>15 minutes</td>\n",
       "      <td>AS a Marine 1st Lt. flying an FJ4B fighter/att...</td>\n",
       "      <td>1/22/2004</td>\n",
       "      <td>21.4180556</td>\n",
       "      <td>-157.803611</td>\n",
       "    </tr>\n",
       "  </tbody>\n",
       "</table>\n",
       "</div>"
      ],
      "text/plain": [
       "           datetime                  city state country     shape  \\\n",
       "0  10/10/1949 20:30            san marcos    tx      us  cylinder   \n",
       "1  10/10/1949 21:00          lackland afb    tx     NaN     light   \n",
       "2  10/10/1955 17:00  chester (uk/england)   NaN      gb    circle   \n",
       "3  10/10/1956 21:00                  edna    tx      us    circle   \n",
       "4  10/10/1960 20:00               kaneohe    hi      us     light   \n",
       "\n",
       "  duration (seconds) duration (hours/min)  \\\n",
       "0               2700           45 minutes   \n",
       "1               7200              1-2 hrs   \n",
       "2                 20           20 seconds   \n",
       "3                 20             1/2 hour   \n",
       "4                900           15 minutes   \n",
       "\n",
       "                                            comments date posted    latitude  \\\n",
       "0  This event took place in early fall around 194...   4/27/2004  29.8830556   \n",
       "1  1949 Lackland AFB&#44 TX.  Lights racing acros...  12/16/2005    29.38421   \n",
       "2  Green/Orange circular disc over Chester&#44 En...   1/21/2008        53.2   \n",
       "3  My older brother and twin sister were leaving ...   1/17/2004  28.9783333   \n",
       "4  AS a Marine 1st Lt. flying an FJ4B fighter/att...   1/22/2004  21.4180556   \n",
       "\n",
       "   longitude   \n",
       "0  -97.941111  \n",
       "1  -98.581082  \n",
       "2   -2.916667  \n",
       "3  -96.645833  \n",
       "4 -157.803611  "
      ]
     },
     "execution_count": 3,
     "metadata": {},
     "output_type": "execute_result"
    }
   ],
   "source": [
    "# View first 5 records in dataset\n",
    "df_sightings.head()"
   ]
  },
  {
   "cell_type": "markdown",
   "id": "00bd51f5",
   "metadata": {
    "papermill": {
     "duration": 0.006699,
     "end_time": "2024-12-11T16:18:13.998107",
     "exception": false,
     "start_time": "2024-12-11T16:18:13.991408",
     "status": "completed"
    },
    "tags": []
   },
   "source": [
    "#### Data Cleansing\n"
   ]
  },
  {
   "cell_type": "markdown",
   "id": "42613fe8",
   "metadata": {
    "papermill": {
     "duration": 0.006473,
     "end_time": "2024-12-11T16:18:14.011657",
     "exception": false,
     "start_time": "2024-12-11T16:18:14.005184",
     "status": "completed"
    },
    "tags": []
   },
   "source": [
    "##### Handling Missing Values\n"
   ]
  },
  {
   "cell_type": "code",
   "execution_count": 4,
   "id": "d063f637",
   "metadata": {
    "execution": {
     "iopub.execute_input": "2024-12-11T16:18:14.028014Z",
     "iopub.status.busy": "2024-12-11T16:18:14.026403Z",
     "iopub.status.idle": "2024-12-11T16:18:14.185640Z",
     "shell.execute_reply": "2024-12-11T16:18:14.183798Z"
    },
    "papermill": {
     "duration": 0.17105,
     "end_time": "2024-12-11T16:18:14.189217",
     "exception": false,
     "start_time": "2024-12-11T16:18:14.018167",
     "status": "completed"
    },
    "tags": []
   },
   "outputs": [
    {
     "name": "stdout",
     "output_type": "stream",
     "text": [
      "Missing values before cleaning:\n",
      "datetime                   0\n",
      "city                       0\n",
      "state                   5797\n",
      "country                 9670\n",
      "shape                   1932\n",
      "duration (seconds)         0\n",
      "duration (hours/min)       0\n",
      "comments                  15\n",
      "date posted                0\n",
      "latitude                   0\n",
      "longitude                  0\n",
      "dtype: int64\n",
      "Missing values after cleaning:\n",
      "datetime                   0\n",
      "city                       0\n",
      "state                   2464\n",
      "country                    0\n",
      "shape                      0\n",
      "duration (seconds)         0\n",
      "duration (hours/min)       0\n",
      "comments                   8\n",
      "date posted                0\n",
      "latitude                   0\n",
      "longitude                  0\n",
      "dtype: int64\n"
     ]
    }
   ],
   "source": [
    "# Count missing values before cleaning\n",
    "print(\"Missing values before cleaning:\")\n",
    "print(df_sightings.isnull().sum())\n",
    "\n",
    "# Retain rows with valid state or specific countries\n",
    "# keeping gb, au, and de as they dont have states and we might want to use them at a later stage\n",
    "filtered_countries = ['gb', 'au', 'de']\n",
    "df_filtered = df_sightings[\n",
    "    (df_sightings['country'].isin(filtered_countries)) |\n",
    "    (df_sightings['state'].notna())\n",
    "]\n",
    "\n",
    "# Drop rows with missing key values\n",
    "df_filtered = df_filtered.dropna(subset=['country', 'city', 'shape'])\n",
    "\n",
    "# Count missing values after cleaning\n",
    "print(\"Missing values after cleaning:\")\n",
    "print(df_filtered.isnull().sum())"
   ]
  },
  {
   "cell_type": "markdown",
   "id": "154c86d9",
   "metadata": {
    "papermill": {
     "duration": 0.007171,
     "end_time": "2024-12-11T16:18:14.207321",
     "exception": false,
     "start_time": "2024-12-11T16:18:14.200150",
     "status": "completed"
    },
    "tags": []
   },
   "source": [
    "##### Convert and Extract Features"
   ]
  },
  {
   "cell_type": "code",
   "execution_count": 5,
   "id": "cd052d14",
   "metadata": {
    "execution": {
     "iopub.execute_input": "2024-12-11T16:18:14.223470Z",
     "iopub.status.busy": "2024-12-11T16:18:14.223022Z",
     "iopub.status.idle": "2024-12-11T16:18:14.489306Z",
     "shell.execute_reply": "2024-12-11T16:18:14.487888Z"
    },
    "papermill": {
     "duration": 0.27725,
     "end_time": "2024-12-11T16:18:14.491790",
     "exception": false,
     "start_time": "2024-12-11T16:18:14.214540",
     "status": "completed"
    },
    "tags": []
   },
   "outputs": [
    {
     "name": "stdout",
     "output_type": "stream",
     "text": [
      "Invalid datetime entries: 524\n"
     ]
    }
   ],
   "source": [
    "# Convert datetime to the correct format\n",
    "df_filtered['datetime'] = pd.to_datetime(df_filtered['datetime'], errors='coerce')\n",
    "print(f\"Invalid datetime entries: {df_filtered['datetime'].isnull().sum()}\")\n",
    "\n",
    "# Convert duration to numeric value\n",
    "df_filtered['duration (seconds)'] = pd.to_numeric(df_filtered['duration (seconds)'], errors='coerce')\n",
    "\n",
    "# Extract year and month features\n",
    "df_filtered['year'] = df_filtered['datetime'].dt.year\n",
    "df_filtered['month'] = df_filtered['datetime'].dt.month\n",
    "\n",
    "# Drop redundant columns\n",
    "df_filtered.drop(columns=['duration (hours/min)'], inplace=True)"
   ]
  },
  {
   "cell_type": "code",
   "execution_count": 6,
   "id": "f464d510",
   "metadata": {
    "execution": {
     "iopub.execute_input": "2024-12-11T16:18:14.506999Z",
     "iopub.status.busy": "2024-12-11T16:18:14.506555Z",
     "iopub.status.idle": "2024-12-11T16:18:14.552073Z",
     "shell.execute_reply": "2024-12-11T16:18:14.550861Z"
    },
    "papermill": {
     "duration": 0.056809,
     "end_time": "2024-12-11T16:18:14.554828",
     "exception": false,
     "start_time": "2024-12-11T16:18:14.498019",
     "status": "completed"
    },
    "tags": []
   },
   "outputs": [
    {
     "name": "stdout",
     "output_type": "stream",
     "text": [
      "Cleaned Data Info:\n",
      "<class 'pandas.core.frame.DataFrame'>\n",
      "Index: 68988 entries, 0 to 80331\n",
      "Data columns (total 12 columns):\n",
      " #   Column              Non-Null Count  Dtype         \n",
      "---  ------              --------------  -----         \n",
      " 0   datetime            68464 non-null  datetime64[ns]\n",
      " 1   city                68988 non-null  object        \n",
      " 2   state               66524 non-null  object        \n",
      " 3   country             68988 non-null  object        \n",
      " 4   shape               68988 non-null  object        \n",
      " 5   duration (seconds)  68988 non-null  float64       \n",
      " 6   comments            68980 non-null  object        \n",
      " 7   date posted         68988 non-null  object        \n",
      " 8   latitude            68988 non-null  object        \n",
      " 9   longitude           68988 non-null  float64       \n",
      " 10  year                68464 non-null  float64       \n",
      " 11  month               68464 non-null  float64       \n",
      "dtypes: datetime64[ns](1), float64(4), object(7)\n",
      "memory usage: 6.8+ MB\n",
      "None\n",
      "             datetime                  city state country     shape  \\\n",
      "0 1949-10-10 20:30:00            san marcos    tx      us  cylinder   \n",
      "2 1955-10-10 17:00:00  chester (uk/england)   NaN      gb    circle   \n",
      "3 1956-10-10 21:00:00                  edna    tx      us    circle   \n",
      "4 1960-10-10 20:00:00               kaneohe    hi      us     light   \n",
      "5 1961-10-10 19:00:00               bristol    tn      us    sphere   \n",
      "\n",
      "   duration (seconds)                                           comments  \\\n",
      "0              2700.0  This event took place in early fall around 194...   \n",
      "2                20.0  Green/Orange circular disc over Chester&#44 En...   \n",
      "3                20.0  My older brother and twin sister were leaving ...   \n",
      "4               900.0  AS a Marine 1st Lt. flying an FJ4B fighter/att...   \n",
      "5               300.0  My father is now 89 my brother 52 the girl wit...   \n",
      "\n",
      "  date posted    latitude  longitude     year  month  \n",
      "0   4/27/2004  29.8830556  -97.941111  1949.0   10.0  \n",
      "2   1/21/2008        53.2   -2.916667  1955.0   10.0  \n",
      "3   1/17/2004  28.9783333  -96.645833  1956.0   10.0  \n",
      "4   1/22/2004  21.4180556 -157.803611  1960.0   10.0  \n",
      "5   4/27/2007  36.5950000  -82.188889  1961.0   10.0  \n"
     ]
    }
   ],
   "source": [
    "print(\"Cleaned Data Info:\")\n",
    "print(df_filtered.info())\n",
    "print(df_filtered.head())"
   ]
  },
  {
   "cell_type": "markdown",
   "id": "fc6646e9",
   "metadata": {
    "papermill": {
     "duration": 0.005921,
     "end_time": "2024-12-11T16:18:14.567228",
     "exception": false,
     "start_time": "2024-12-11T16:18:14.561307",
     "status": "completed"
    },
    "tags": []
   },
   "source": [
    "#### Analysis\n"
   ]
  },
  {
   "cell_type": "markdown",
   "id": "6e9ccfdf",
   "metadata": {
    "papermill": {
     "duration": 0.007044,
     "end_time": "2024-12-11T16:18:14.580720",
     "exception": false,
     "start_time": "2024-12-11T16:18:14.573676",
     "status": "completed"
    },
    "tags": []
   },
   "source": [
    "##### Sightings per Year"
   ]
  },
  {
   "cell_type": "code",
   "execution_count": 7,
   "id": "c6ef66ee",
   "metadata": {
    "execution": {
     "iopub.execute_input": "2024-12-11T16:18:14.597788Z",
     "iopub.status.busy": "2024-12-11T16:18:14.597356Z",
     "iopub.status.idle": "2024-12-11T16:18:16.753056Z",
     "shell.execute_reply": "2024-12-11T16:18:16.751649Z"
    },
    "papermill": {
     "duration": 2.16847,
     "end_time": "2024-12-11T16:18:16.755604",
     "exception": false,
     "start_time": "2024-12-11T16:18:14.587134",
     "status": "completed"
    },
    "tags": []
   },
   "outputs": [
    {
     "data": {
      "text/html": [
       "<iframe\n",
       "    scrolling=\"no\"\n",
       "    width=\"100%\"\n",
       "    height=\"545px\"\n",
       "    src=\"iframe_figures/figure_7.html\"\n",
       "    frameborder=\"0\"\n",
       "    allowfullscreen\n",
       "></iframe>\n"
      ]
     },
     "metadata": {},
     "output_type": "display_data"
    }
   ],
   "source": [
    "# Group sightings by year\n",
    "sightings_by_year = df_filtered.groupby('year').size().reset_index(name='sightings')\n",
    "\n",
    "# Bar plot for yearly trends\n",
    "fig = px.bar(\n",
    "    sightings_by_year, x='year', y='sightings',\n",
    "    labels={'year': 'Year', 'sightings': 'Number of Sightings'},\n",
    "    title='Number of UFO Sightings per Year'\n",
    ")\n",
    "\n",
    "fig.update_traces(marker_color='skyblue')\n",
    "\n",
    "fig.show(renderer='iframe')"
   ]
  },
  {
   "cell_type": "markdown",
   "id": "9d50bd57",
   "metadata": {
    "papermill": {
     "duration": 0.006214,
     "end_time": "2024-12-11T16:18:16.769037",
     "exception": false,
     "start_time": "2024-12-11T16:18:16.762823",
     "status": "completed"
    },
    "tags": []
   },
   "source": [
    "##### Sightings per Month"
   ]
  },
  {
   "cell_type": "code",
   "execution_count": 8,
   "id": "ba5beccc",
   "metadata": {
    "execution": {
     "iopub.execute_input": "2024-12-11T16:18:16.783989Z",
     "iopub.status.busy": "2024-12-11T16:18:16.783294Z",
     "iopub.status.idle": "2024-12-11T16:18:16.879400Z",
     "shell.execute_reply": "2024-12-11T16:18:16.878185Z"
    },
    "papermill": {
     "duration": 0.106574,
     "end_time": "2024-12-11T16:18:16.882006",
     "exception": false,
     "start_time": "2024-12-11T16:18:16.775432",
     "status": "completed"
    },
    "tags": []
   },
   "outputs": [
    {
     "data": {
      "text/html": [
       "<iframe\n",
       "    scrolling=\"no\"\n",
       "    width=\"100%\"\n",
       "    height=\"545px\"\n",
       "    src=\"iframe_figures/figure_8.html\"\n",
       "    frameborder=\"0\"\n",
       "    allowfullscreen\n",
       "></iframe>\n"
      ]
     },
     "metadata": {},
     "output_type": "display_data"
    }
   ],
   "source": [
    "# Sightings by month\n",
    "sightings_by_month = df_filtered.groupby('month').size().reset_index(name='sightings')\n",
    "fig = px.bar(\n",
    "    sightings_by_month, x='month', y='sightings',\n",
    "    labels={'month': 'Month', 'sightings': 'Number of Sightings'},\n",
    "    title='Number of UFO Sightings per Month'\n",
    ")\n",
    "fig.update_traces(marker_color='skyblue')\n",
    "fig.show(renderer='iframe')"
   ]
  },
  {
   "cell_type": "markdown",
   "id": "1e464a8f",
   "metadata": {
    "papermill": {
     "duration": 0.006456,
     "end_time": "2024-12-11T16:18:16.896039",
     "exception": false,
     "start_time": "2024-12-11T16:18:16.889583",
     "status": "completed"
    },
    "tags": []
   },
   "source": [
    "##### Sightings per Hour"
   ]
  },
  {
   "cell_type": "code",
   "execution_count": 9,
   "id": "e58677dd",
   "metadata": {
    "execution": {
     "iopub.execute_input": "2024-12-11T16:18:16.913117Z",
     "iopub.status.busy": "2024-12-11T16:18:16.912692Z",
     "iopub.status.idle": "2024-12-11T16:18:17.011387Z",
     "shell.execute_reply": "2024-12-11T16:18:17.010209Z"
    },
    "papermill": {
     "duration": 0.110263,
     "end_time": "2024-12-11T16:18:17.013738",
     "exception": false,
     "start_time": "2024-12-11T16:18:16.903475",
     "status": "completed"
    },
    "tags": []
   },
   "outputs": [
    {
     "data": {
      "text/html": [
       "<iframe\n",
       "    scrolling=\"no\"\n",
       "    width=\"100%\"\n",
       "    height=\"545px\"\n",
       "    src=\"iframe_figures/figure_9.html\"\n",
       "    frameborder=\"0\"\n",
       "    allowfullscreen\n",
       "></iframe>\n"
      ]
     },
     "metadata": {},
     "output_type": "display_data"
    }
   ],
   "source": [
    "\n",
    "# Sightings by hour\n",
    "df_filtered['hour'] = df_filtered['datetime'].dt.hour\n",
    "sightings_by_hour = df_filtered.groupby('hour').size().reset_index(name='sightings')\n",
    "fig = px.bar(\n",
    "    sightings_by_hour, x='hour', y='sightings',\n",
    "    labels={'hour': 'Hour', 'sightings': 'Number of Sightings'},\n",
    "    title='Number of UFO Sightings per Hour'\n",
    ")\n",
    "fig.update_traces(marker_color='skyblue')\n",
    "fig.show(renderer='iframe')"
   ]
  },
  {
   "cell_type": "markdown",
   "id": "4d5752a9",
   "metadata": {
    "papermill": {
     "duration": 0.007016,
     "end_time": "2024-12-11T16:18:17.027663",
     "exception": false,
     "start_time": "2024-12-11T16:18:17.020647",
     "status": "completed"
    },
    "tags": []
   },
   "source": [
    "##### Sightings by Country"
   ]
  },
  {
   "cell_type": "code",
   "execution_count": 10,
   "id": "1311ca13",
   "metadata": {
    "execution": {
     "iopub.execute_input": "2024-12-11T16:18:17.044006Z",
     "iopub.status.busy": "2024-12-11T16:18:17.043586Z",
     "iopub.status.idle": "2024-12-11T16:18:17.172473Z",
     "shell.execute_reply": "2024-12-11T16:18:17.170567Z"
    },
    "papermill": {
     "duration": 0.140149,
     "end_time": "2024-12-11T16:18:17.175195",
     "exception": false,
     "start_time": "2024-12-11T16:18:17.035046",
     "status": "completed"
    },
    "tags": []
   },
   "outputs": [
    {
     "data": {
      "text/html": [
       "<iframe\n",
       "    scrolling=\"no\"\n",
       "    width=\"100%\"\n",
       "    height=\"545px\"\n",
       "    src=\"iframe_figures/figure_10.html\"\n",
       "    frameborder=\"0\"\n",
       "    allowfullscreen\n",
       "></iframe>\n"
      ]
     },
     "metadata": {},
     "output_type": "display_data"
    }
   ],
   "source": [
    "# Group sightings by country\n",
    "sightings_by_country = df_filtered.groupby('country').size().reset_index(name='sightings')\n",
    "sightings_by_country['proportion'] = sightings_by_country['sightings'] / sightings_by_country['sightings'].sum()\n",
    "\n",
    "# Aggregate small proportions into \"Other\"\n",
    "threshold = 0.02\n",
    "sightings_by_country['country'] = np.where(\n",
    "    sightings_by_country['proportion'] < threshold, \n",
    "    'Other',\n",
    "    sightings_by_country['country']\n",
    ")\n",
    "\n",
    "# Pie chart\n",
    "fig = px.pie(\n",
    "    sightings_by_country, names='country', values='sightings',\n",
    "    labels={'country': 'Country', 'sightings': 'Number of Sightings'},\n",
    "    title='Proportion of UFO Sightings by Country'\n",
    ")\n",
    "fig.show(renderer='iframe')"
   ]
  },
  {
   "cell_type": "markdown",
   "id": "9d3bc34b",
   "metadata": {
    "papermill": {
     "duration": 0.006802,
     "end_time": "2024-12-11T16:18:17.188773",
     "exception": false,
     "start_time": "2024-12-11T16:18:17.181971",
     "status": "completed"
    },
    "tags": []
   },
   "source": [
    "##### Sightings by US State"
   ]
  },
  {
   "cell_type": "code",
   "execution_count": 11,
   "id": "d92d69d8",
   "metadata": {
    "execution": {
     "iopub.execute_input": "2024-12-11T16:18:17.207443Z",
     "iopub.status.busy": "2024-12-11T16:18:17.206134Z",
     "iopub.status.idle": "2024-12-11T16:18:17.333986Z",
     "shell.execute_reply": "2024-12-11T16:18:17.332852Z"
    },
    "papermill": {
     "duration": 0.139309,
     "end_time": "2024-12-11T16:18:17.336421",
     "exception": false,
     "start_time": "2024-12-11T16:18:17.197112",
     "status": "completed"
    },
    "tags": []
   },
   "outputs": [
    {
     "data": {
      "text/html": [
       "<iframe\n",
       "    scrolling=\"no\"\n",
       "    width=\"100%\"\n",
       "    height=\"545px\"\n",
       "    src=\"iframe_figures/figure_11.html\"\n",
       "    frameborder=\"0\"\n",
       "    allowfullscreen\n",
       "></iframe>\n"
      ]
     },
     "metadata": {},
     "output_type": "display_data"
    }
   ],
   "source": [
    "df_us = df_filtered[df_filtered['country'] == 'us']\n",
    "\n",
    "# Group by state and count the number of sightings\n",
    "sightings_by_state = df_us.groupby('state').size().reset_index(name='sightings')\n",
    "sightings_by_state = sightings_by_state.sort_values(by='sightings', ascending=False)\n",
    "# Create the interactive bar plot using Plotly Express\n",
    "fig = px.bar(sightings_by_state, x='state', y='sightings', \n",
    "             labels={'state': 'State', 'sightings': 'Number of Sightings'},\n",
    "             title='Number of UFO Sightings by State in the US')\n",
    "\n",
    "# Customize the plot appearance\n",
    "fig.update_traces(marker_color='skyblue')\n",
    "fig.update_layout(xaxis_title='State', yaxis_title='Number of Sightings', \n",
    "                  xaxis=dict(tickangle=45))  # Rotate x-axis labels for better readability\n",
    "\n",
    "# Show the plot\n",
    "fig.show(renderer='iframe')"
   ]
  },
  {
   "cell_type": "markdown",
   "id": "7a60e8b1",
   "metadata": {
    "papermill": {
     "duration": 0.006375,
     "end_time": "2024-12-11T16:18:17.350068",
     "exception": false,
     "start_time": "2024-12-11T16:18:17.343693",
     "status": "completed"
    },
    "tags": []
   },
   "source": [
    "##### Sightings by Cities in Great Britain\n"
   ]
  },
  {
   "cell_type": "code",
   "execution_count": 12,
   "id": "fe8f38e7",
   "metadata": {
    "execution": {
     "iopub.execute_input": "2024-12-11T16:18:17.365251Z",
     "iopub.status.busy": "2024-12-11T16:18:17.364875Z",
     "iopub.status.idle": "2024-12-11T16:18:17.472212Z",
     "shell.execute_reply": "2024-12-11T16:18:17.470962Z"
    },
    "papermill": {
     "duration": 0.117855,
     "end_time": "2024-12-11T16:18:17.474615",
     "exception": false,
     "start_time": "2024-12-11T16:18:17.356760",
     "status": "completed"
    },
    "tags": []
   },
   "outputs": [
    {
     "data": {
      "text/html": [
       "<iframe\n",
       "    scrolling=\"no\"\n",
       "    width=\"100%\"\n",
       "    height=\"545px\"\n",
       "    src=\"iframe_figures/figure_12.html\"\n",
       "    frameborder=\"0\"\n",
       "    allowfullscreen\n",
       "></iframe>\n"
      ]
     },
     "metadata": {},
     "output_type": "display_data"
    }
   ],
   "source": [
    "# Filter the data for the United Kingdom (GB)\n",
    "df_gb = df_filtered[df_filtered['country'] == 'gb']  \n",
    "\n",
    "# Clean the city names by removing the parentheses\n",
    "df_gb['city_cleaned'] = df_gb['city'].apply(lambda x: re.sub(r'\\(.*\\)', '', str(x)).strip())\n",
    "\n",
    "# Count the number of sightings per cleaned city\n",
    "city_sightings_gb = df_gb['city_cleaned'].value_counts().reset_index()\n",
    "city_sightings_gb.columns = ['City', 'Sightings']\n",
    "\n",
    "# Create an interactive bar plot with city on the x-axis and sightings on the y-axis\n",
    "fig = px.bar(\n",
    "    city_sightings_gb.head(20),  # Top 20 cities with most sightings\n",
    "    x='City', \n",
    "    y='Sightings', \n",
    "    title='Top 20 Cities with Most UFO Sightings in Great Britain',\n",
    "    labels={'City': 'City', 'Sightings': 'Number of Sightings'},\n",
    ")\n",
    "fig.update_traces(marker_color='skyblue')\n",
    "\n",
    "# Show the plot\n",
    "fig.show(renderer='iframe')"
   ]
  },
  {
   "cell_type": "markdown",
   "id": "d048cf04",
   "metadata": {
    "papermill": {
     "duration": 0.007483,
     "end_time": "2024-12-11T16:18:17.489622",
     "exception": false,
     "start_time": "2024-12-11T16:18:17.482139",
     "status": "completed"
    },
    "tags": []
   },
   "source": [
    "##### Sightings by UFO Shape"
   ]
  },
  {
   "cell_type": "code",
   "execution_count": 13,
   "id": "3c21dc30",
   "metadata": {
    "execution": {
     "iopub.execute_input": "2024-12-11T16:18:17.506316Z",
     "iopub.status.busy": "2024-12-11T16:18:17.505862Z",
     "iopub.status.idle": "2024-12-11T16:18:17.614850Z",
     "shell.execute_reply": "2024-12-11T16:18:17.612312Z"
    },
    "papermill": {
     "duration": 0.120225,
     "end_time": "2024-12-11T16:18:17.617585",
     "exception": false,
     "start_time": "2024-12-11T16:18:17.497360",
     "status": "completed"
    },
    "tags": []
   },
   "outputs": [
    {
     "data": {
      "text/html": [
       "<iframe\n",
       "    scrolling=\"no\"\n",
       "    width=\"100%\"\n",
       "    height=\"545px\"\n",
       "    src=\"iframe_figures/figure_13.html\"\n",
       "    frameborder=\"0\"\n",
       "    allowfullscreen\n",
       "></iframe>\n"
      ]
     },
     "metadata": {},
     "output_type": "display_data"
    }
   ],
   "source": [
    "# Distribution of UFO shapes\n",
    "shape_counts = df_filtered['shape'].value_counts().reset_index()\n",
    "shape_counts.columns = ['Shape', 'Sightings']\n",
    "\n",
    "fig = px.bar(\n",
    "    shape_counts, x='Shape', y='Sightings',\n",
    "    labels={'Shape': 'Shape', 'Sightings': 'Number of Sightings'},\n",
    "    title='Distribution of UFO Shapes'\n",
    ")\n",
    "fig.update_layout(xaxis_title=\"UFO Shape\", yaxis_title=\"Frequency\", xaxis=dict(tickangle=45))\n",
    "fig.update_traces(marker_color='skyblue')\n",
    "fig.show(renderer='iframe')"
   ]
  },
  {
   "cell_type": "code",
   "execution_count": 14,
   "id": "58dc8436",
   "metadata": {
    "execution": {
     "iopub.execute_input": "2024-12-11T16:18:17.633938Z",
     "iopub.status.busy": "2024-12-11T16:18:17.633458Z",
     "iopub.status.idle": "2024-12-11T16:18:22.230886Z",
     "shell.execute_reply": "2024-12-11T16:18:22.229613Z"
    },
    "papermill": {
     "duration": 4.6086,
     "end_time": "2024-12-11T16:18:22.233419",
     "exception": false,
     "start_time": "2024-12-11T16:18:17.624819",
     "status": "completed"
    },
    "tags": []
   },
   "outputs": [
    {
     "data": {
      "text/html": [
       "<iframe\n",
       "    scrolling=\"no\"\n",
       "    width=\"100%\"\n",
       "    height=\"545px\"\n",
       "    src=\"iframe_figures/figure_14.html\"\n",
       "    frameborder=\"0\"\n",
       "    allowfullscreen\n",
       "></iframe>\n"
      ]
     },
     "metadata": {},
     "output_type": "display_data"
    }
   ],
   "source": [
    "# Generate word cloud from comments\n",
    "all_comments = \" \".join(df_filtered['comments'].dropna())\n",
    "wordcloud = WordCloud(\n",
    "    width=800, height=400, background_color=\"white\"\n",
    ").generate(all_comments)\n",
    "\n",
    "# Display the word cloud\n",
    "fig = go.Figure(data=[go.Image(z=wordcloud.to_array())])\n",
    "fig.update_layout(title=\"Word Cloud of Comments\")\n",
    "fig.show(renderer='iframe')"
   ]
  },
  {
   "cell_type": "markdown",
   "id": "a74ae2ab",
   "metadata": {
    "papermill": {
     "duration": 0.006581,
     "end_time": "2024-12-11T16:18:22.247252",
     "exception": false,
     "start_time": "2024-12-11T16:18:22.240671",
     "status": "completed"
    },
    "tags": []
   },
   "source": [
    "#### Findings\n"
   ]
  },
  {
   "cell_type": "markdown",
   "id": "b9404f53",
   "metadata": {
    "papermill": {
     "duration": 0.00656,
     "end_time": "2024-12-11T16:18:22.260856",
     "exception": false,
     "start_time": "2024-12-11T16:18:22.254296",
     "status": "completed"
    },
    "tags": []
   },
   "source": [
    "Based on the information above we can now answer our initial questions:\n",
    "\n",
    "  <b>1. In which states, countries or cities do most UFO sightings occur?</b>\n",
    "    \n",
    "  - The United States accounts for 92% of all UFO sightings, followed by Canada and Great Britain. \n",
    "  - Within the US, California has the highest number of sightings\n",
    "  - July is the month with the most UFO sightings overall\n",
    "\n",
    "  <b>2. Are UFO sightings increasing or decreasing over time?</b>\n",
    "\n",
    "  - UFO sightings appear to be increasing over time, with 3,725 sightings reported in 2010 compared to 6,552 in 2012, representing a 75% increase\n",
    "    \n",
    "  <b>3. What are the most commonly reported shapes of UFOs? </b>\n",
    "\n",
    "  - The most commonly reported shapes are \"Light\" followed by \"Triangle\" and \"Circle\"\n",
    "  \n",
    "  <b> 4. What are common keywords or phrases in UFO descriptions, and do recurring themes emerge? </b>\n",
    "\n",
    "  - The most common phrases/keywords are \"Sky\" and \"Light\""
   ]
  }
 ],
 "metadata": {
  "kaggle": {
   "accelerator": "none",
   "dataSources": [
    {
     "datasetId": 388,
     "sourceId": 793053,
     "sourceType": "datasetVersion"
    }
   ],
   "dockerImageVersionId": 30804,
   "isGpuEnabled": false,
   "isInternetEnabled": true,
   "language": "python",
   "sourceType": "notebook"
  },
  "kernelspec": {
   "display_name": "Python 3",
   "language": "python",
   "name": "python3"
  },
  "language_info": {
   "codemirror_mode": {
    "name": "ipython",
    "version": 3
   },
   "file_extension": ".py",
   "mimetype": "text/x-python",
   "name": "python",
   "nbconvert_exporter": "python",
   "pygments_lexer": "ipython3",
   "version": "3.10.14"
  },
  "papermill": {
   "default_parameters": {},
   "duration": 17.161427,
   "end_time": "2024-12-11T16:18:23.091651",
   "environment_variables": {},
   "exception": null,
   "input_path": "__notebook__.ipynb",
   "output_path": "__notebook__.ipynb",
   "parameters": {},
   "start_time": "2024-12-11T16:18:05.930224",
   "version": "2.6.0"
  }
 },
 "nbformat": 4,
 "nbformat_minor": 5
}
